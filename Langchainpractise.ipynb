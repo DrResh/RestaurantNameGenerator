{
 "cells": [
  {
   "cell_type": "code",
   "execution_count": 1,
   "metadata": {},
   "outputs": [],
   "source": [
    "import os\n",
    "from ApiKey import openapi_key\n",
    "os.environ[\"OPENAI_API_KEY\"]=openapi_key"
   ]
  },
  {
   "cell_type": "code",
   "execution_count": 3,
   "metadata": {},
   "outputs": [
    {
     "name": "stdout",
     "output_type": "stream",
     "text": [
      "\n",
      "\n",
      "Masala Palace\n"
     ]
    }
   ],
   "source": [
    "from langchain.llms import OpenAI\n",
    "llm= OpenAI(temperature=0.6)\n",
    "name = llm(\"i want to open a restaurant for indian food. Please suggest a good name for this.\")\n",
    "print(name)"
   ]
  },
  {
   "cell_type": "code",
   "execution_count": 4,
   "metadata": {},
   "outputs": [
    {
     "data": {
      "text/plain": [
       "'i want to open a restaurant for italian food. Please suggest a fancy name for this.'"
      ]
     },
     "execution_count": 4,
     "metadata": {},
     "output_type": "execute_result"
    }
   ],
   "source": [
    "from langchain.prompts import PromptTemplate\n",
    "pro_temp = PromptTemplate(input_variables=['Cuisine'], \n",
    "               template=\"i want to open a restaurant for {Cuisine} food. Please suggest a fancy name for this.\"\n",
    "               )\n",
    "pro_temp.format(Cuisine=\"italian\")"
   ]
  },
  {
   "cell_type": "code",
   "execution_count": 10,
   "metadata": {},
   "outputs": [
    {
     "data": {
      "text/plain": [
       "'\\n\\nPakistani Palace Cuisine'"
      ]
     },
     "execution_count": 10,
     "metadata": {},
     "output_type": "execute_result"
    }
   ],
   "source": [
    "from langchain.chains import LLMChain\n",
    "llmchain = LLMChain(llm=llm,prompt=pro_temp)\n",
    "llmchain.run(\"pakistani\")"
   ]
  },
  {
   "cell_type": "code",
   "execution_count": null,
   "metadata": {},
   "outputs": [],
   "source": [
    "from langchain.chains import SimpleSequentialChain\n",
    "\n",
    "foodname_prompt = PromptTemplate(input_variables=['restaurant_name'],\n",
    "                                 template=\"suggest some menu items for {restaurant_name}. return it as a comma seperated list \"\n",
    "                                 )\n",
    "food_chain = LLMChain(llm=llm,prompt=foodname_prompt)\n",
    "restchain = SimpleSequentialChain(chains=[llmchain, food_chain])\n",
    "response_foodlist = restchain.run(\"Thai\")\n",
    "print(response_foodlist)"
   ]
  }
 ],
 "metadata": {
  "kernelspec": {
   "display_name": ".venv",
   "language": "python",
   "name": "python3"
  },
  "language_info": {
   "codemirror_mode": {
    "name": "ipython",
    "version": 3
   },
   "file_extension": ".py",
   "mimetype": "text/x-python",
   "name": "python",
   "nbconvert_exporter": "python",
   "pygments_lexer": "ipython3",
   "version": "3.11.1"
  }
 },
 "nbformat": 4,
 "nbformat_minor": 2
}
